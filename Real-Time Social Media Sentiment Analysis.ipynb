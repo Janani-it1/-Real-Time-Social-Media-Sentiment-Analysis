{
 "cells": [
  {
   "cell_type": "code",
   "execution_count": null,
   "metadata": {},
   "outputs": [],
   "source": [
    "import tweepy\n",
    "\n",
    "# Replace these with your actual Twitter API keys\n",
    "API_KEY = 'YOUR_API_KEY'\n",
    "API_SECRET_KEY = 'YOUR_API_SECRET_KEY'\n",
    "ACCESS_TOKEN = 'YOUR_ACCESS_TOKEN'\n",
    "ACCESS_TOKEN_SECRET = 'YOUR_ACCESS_TOKEN_SECRET'\n",
    "\n",
    "# Authenticate with Twitter API using Tweepy\n",
    "auth = tweepy.OAuthHandler(API_KEY, API_SECRET_KEY)\n",
    "auth.set_access_token(ACCESS_TOKEN, ACCESS_TOKEN_SECRET)\n",
    "api = tweepy.API(auth, wait_on_rate_limit=True)\n"
   ]
  },
  {
   "cell_type": "code",
   "execution_count": null,
   "metadata": {},
   "outputs": [],
   "source": [
    "import tweepy\n",
    "from nltk.sentiment import SentimentIntensityAnalyzer\n",
    "import nltk\n",
    "\n",
    "nltk.download('vader_lexicon')\n",
    "\n",
    "# Setup the Sentiment Analyzer\n",
    "sia = SentimentIntensityAnalyzer()\n",
    "\n",
    "def fetch_tweets(hashtag, count=100):\n",
    "    # Search for tweets containing the hashtag\n",
    "    tweets = tweepy.Cursor(api.search_tweets, q=hashtag, lang=\"en\").items(count)\n",
    "    return [tweet.text for tweet in tweets]\n",
    "\n",
    "def analyze_sentiment(tweet):\n",
    "    sentiment = sia.polarity_scores(tweet)\n",
    "    return sentiment\n",
    "\n",
    "# Fetch tweets for a specific hashtag\n",
    "hashtag = \"#YourHashtag\"\n",
    "tweets = fetch_tweets(hashtag, count=100)\n",
    "\n",
    "# Analyze the sentiment of each tweet\n",
    "sentiment_results = {\"positive\": 0, \"negative\": 0, \"neutral\": 0}\n",
    "\n",
    "for tweet in tweets:\n",
    "    sentiment = analyze_sentiment(tweet)\n",
    "    if sentiment['compound'] >= 0.05:\n",
    "        sentiment_results[\"positive\"] += 1\n",
    "    elif sentiment['compound'] <= -0.05:\n",
    "        sentiment_results[\"negative\"] += 1\n",
    "    else:\n",
    "        sentiment_results[\"neutral\"] += 1\n",
    "\n",
    "# Output the sentiment distribution\n",
    "total_tweets = len(tweets)\n",
    "positive_percent = (sentiment_results[\"positive\"] / total_tweets) * 100\n",
    "negative_percent = (sentiment_results[\"negative\"] / total_tweets) * 100\n",
    "neutral_percent = (sentiment_results[\"neutral\"] / total_tweets) * 100\n",
    "\n",
    "print(f\"Positive Sentiment: {positive_percent}%\")\n",
    "print(f\"Negative Sentiment: {negative_percent}%\")\n",
    "print(f\"Neutral Sentiment: {neutral_percent}%\")\n"
   ]
  },
  {
   "cell_type": "code",
   "execution_count": null,
   "metadata": {},
   "outputs": [],
   "source": [
    "import matplotlib.pyplot as plt\n",
    "import numpy as np\n",
    "\n",
    "# Data for visualization\n",
    "labels = ['Positive', 'Negative', 'Neutral']\n",
    "sizes = [positive_percent, negative_percent, neutral_percent]\n",
    "colors = ['green', 'red', 'gray']\n",
    "\n",
    "# Plot the sentiment distribution\n",
    "plt.figure(figsize=(8, 6))\n",
    "plt.pie(sizes, labels=labels, colors=colors, autopct='%1.1f%%', startangle=90)\n",
    "plt.axis('equal')  # Equal aspect ratio ensures the pie chart is circular.\n",
    "plt.title(f'Sentiment Distribution for {hashtag}')\n",
    "plt.show()\n"
   ]
  }
 ],
 "metadata": {
  "kernelspec": {
   "display_name": "Python 3",
   "language": "python",
   "name": "python3"
  },
  "language_info": {
   "codemirror_mode": {
    "name": "ipython",
    "version": 3
   },
   "file_extension": ".py",
   "mimetype": "text/x-python",
   "name": "python",
   "nbconvert_exporter": "python",
   "pygments_lexer": "ipython3",
   "version": "3.10.11"
  }
 },
 "nbformat": 4,
 "nbformat_minor": 2
}
